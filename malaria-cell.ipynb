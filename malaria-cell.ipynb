{
 "cells": [
  {
   "cell_type": "code",
   "execution_count": 1,
   "id": "892c0fa4",
   "metadata": {
    "_cell_guid": "b1076dfc-b9ad-4769-8c92-a6c4dae69d19",
    "_uuid": "8f2839f25d086af736a60e9eeb907d3b93b6e0e5",
    "execution": {
     "iopub.execute_input": "2021-10-17T02:49:15.046786Z",
     "iopub.status.busy": "2021-10-17T02:49:15.045257Z",
     "iopub.status.idle": "2021-10-17T02:49:20.056277Z",
     "shell.execute_reply": "2021-10-17T02:49:20.055664Z",
     "shell.execute_reply.started": "2021-10-17T02:45:27.642310Z"
    },
    "papermill": {
     "duration": 5.023638,
     "end_time": "2021-10-17T02:49:20.056434",
     "exception": false,
     "start_time": "2021-10-17T02:49:15.032796",
     "status": "completed"
    },
    "tags": []
   },
   "outputs": [],
   "source": [
    "import os\n",
    "import numpy as np\n",
    "import matplotlib.pyplot as plt\n",
    "import pandas as pd\n",
    "import tensorflow as tf\n",
    "from tensorflow.keras.models import Sequential\n",
    "from tensorflow.keras.layers import Dense, Conv2D, MaxPooling2D, Dropout, Flatten, Activation\n",
    "from tensorflow.keras.preprocessing.image import ImageDataGenerator\n",
    "from tensorflow.keras.callbacks import EarlyStopping"
   ]
  },
  {
   "cell_type": "code",
   "execution_count": 2,
   "id": "13cb79fd",
   "metadata": {
    "execution": {
     "iopub.execute_input": "2021-10-17T02:49:20.075516Z",
     "iopub.status.busy": "2021-10-17T02:49:20.074975Z",
     "iopub.status.idle": "2021-10-17T02:49:20.078320Z",
     "shell.execute_reply": "2021-10-17T02:49:20.078707Z",
     "shell.execute_reply.started": "2021-10-17T02:45:34.333393Z"
    },
    "papermill": {
     "duration": 0.013769,
     "end_time": "2021-10-17T02:49:20.078832",
     "exception": false,
     "start_time": "2021-10-17T02:49:20.065063",
     "status": "completed"
    },
    "tags": []
   },
   "outputs": [],
   "source": [
    "cell_images = '../input/cell-images-for-detecting-malaria/cell_images/cell_images'"
   ]
  },
  {
   "cell_type": "code",
   "execution_count": 3,
   "id": "22598810",
   "metadata": {
    "execution": {
     "iopub.execute_input": "2021-10-17T02:49:20.096249Z",
     "iopub.status.busy": "2021-10-17T02:49:20.095612Z",
     "iopub.status.idle": "2021-10-17T02:49:20.512633Z",
     "shell.execute_reply": "2021-10-17T02:49:20.512086Z",
     "shell.execute_reply.started": "2021-10-17T02:45:36.778401Z"
    },
    "papermill": {
     "duration": 0.427143,
     "end_time": "2021-10-17T02:49:20.512756",
     "exception": false,
     "start_time": "2021-10-17T02:49:20.085613",
     "status": "completed"
    },
    "tags": []
   },
   "outputs": [
    {
     "name": "stdout",
     "output_type": "stream",
     "text": [
      "13780\n",
      "13780\n"
     ]
    }
   ],
   "source": [
    "uninfected = len(os.listdir(\"../input/cell-images-for-detecting-malaria/cell_images/cell_images/Uninfected\"))\n",
    "parasitized = len(os.listdir(\"../input/cell-images-for-detecting-malaria/cell_images/cell_images/Parasitized\"))\n",
    "print(uninfected)\n",
    "print(parasitized)"
   ]
  },
  {
   "cell_type": "code",
   "execution_count": 4,
   "id": "385b2a03",
   "metadata": {
    "execution": {
     "iopub.execute_input": "2021-10-17T02:49:20.531855Z",
     "iopub.status.busy": "2021-10-17T02:49:20.531324Z",
     "iopub.status.idle": "2021-10-17T02:49:20.534201Z",
     "shell.execute_reply": "2021-10-17T02:49:20.534613Z",
     "shell.execute_reply.started": "2021-10-17T02:45:58.231079Z"
    },
    "papermill": {
     "duration": 0.014253,
     "end_time": "2021-10-17T02:49:20.534738",
     "exception": false,
     "start_time": "2021-10-17T02:49:20.520485",
     "status": "completed"
    },
    "tags": []
   },
   "outputs": [],
   "source": [
    "image_generator = ImageDataGenerator(rotation_range=20,\n",
    "                               width_shift_range=0.1,\n",
    "                               shear_range=0.1,\n",
    "                               fill_mode=\"constant\")\n",
    "# fill mode constant is the best idea since all the images have black background in the first place"
   ]
  },
  {
   "cell_type": "code",
   "execution_count": 5,
   "id": "35d6cc48",
   "metadata": {
    "execution": {
     "iopub.execute_input": "2021-10-17T02:49:20.554074Z",
     "iopub.status.busy": "2021-10-17T02:49:20.553568Z",
     "iopub.status.idle": "2021-10-17T02:49:41.694836Z",
     "shell.execute_reply": "2021-10-17T02:49:41.695702Z",
     "shell.execute_reply.started": "2021-10-17T02:46:00.936401Z"
    },
    "papermill": {
     "duration": 21.153888,
     "end_time": "2021-10-17T02:49:41.695918",
     "exception": false,
     "start_time": "2021-10-17T02:49:20.542030",
     "status": "completed"
    },
    "tags": []
   },
   "outputs": [
    {
     "name": "stdout",
     "output_type": "stream",
     "text": [
      "Found 27558 files belonging to 2 classes.\n",
      "Using 22047 files for training.\n"
     ]
    },
    {
     "name": "stderr",
     "output_type": "stream",
     "text": [
      "2021-10-17 02:49:37.811227: I tensorflow/stream_executor/cuda/cuda_gpu_executor.cc:937] successful NUMA node read from SysFS had negative value (-1), but there must be at least one NUMA node, so returning NUMA node zero\n",
      "2021-10-17 02:49:37.911265: I tensorflow/stream_executor/cuda/cuda_gpu_executor.cc:937] successful NUMA node read from SysFS had negative value (-1), but there must be at least one NUMA node, so returning NUMA node zero\n",
      "2021-10-17 02:49:37.911936: I tensorflow/stream_executor/cuda/cuda_gpu_executor.cc:937] successful NUMA node read from SysFS had negative value (-1), but there must be at least one NUMA node, so returning NUMA node zero\n",
      "2021-10-17 02:49:37.915003: I tensorflow/core/platform/cpu_feature_guard.cc:142] This TensorFlow binary is optimized with oneAPI Deep Neural Network Library (oneDNN) to use the following CPU instructions in performance-critical operations:  AVX2 AVX512F FMA\n",
      "To enable them in other operations, rebuild TensorFlow with the appropriate compiler flags.\n",
      "2021-10-17 02:49:37.916177: I tensorflow/stream_executor/cuda/cuda_gpu_executor.cc:937] successful NUMA node read from SysFS had negative value (-1), but there must be at least one NUMA node, so returning NUMA node zero\n",
      "2021-10-17 02:49:37.916828: I tensorflow/stream_executor/cuda/cuda_gpu_executor.cc:937] successful NUMA node read from SysFS had negative value (-1), but there must be at least one NUMA node, so returning NUMA node zero\n",
      "2021-10-17 02:49:37.917431: I tensorflow/stream_executor/cuda/cuda_gpu_executor.cc:937] successful NUMA node read from SysFS had negative value (-1), but there must be at least one NUMA node, so returning NUMA node zero\n",
      "2021-10-17 02:49:39.959430: I tensorflow/stream_executor/cuda/cuda_gpu_executor.cc:937] successful NUMA node read from SysFS had negative value (-1), but there must be at least one NUMA node, so returning NUMA node zero\n",
      "2021-10-17 02:49:39.960532: I tensorflow/stream_executor/cuda/cuda_gpu_executor.cc:937] successful NUMA node read from SysFS had negative value (-1), but there must be at least one NUMA node, so returning NUMA node zero\n",
      "2021-10-17 02:49:39.961509: I tensorflow/stream_executor/cuda/cuda_gpu_executor.cc:937] successful NUMA node read from SysFS had negative value (-1), but there must be at least one NUMA node, so returning NUMA node zero\n",
      "2021-10-17 02:49:39.962491: I tensorflow/core/common_runtime/gpu/gpu_device.cc:1510] Created device /job:localhost/replica:0/task:0/device:GPU:0 with 15403 MB memory:  -> device: 0, name: Tesla P100-PCIE-16GB, pci bus id: 0000:00:04.0, compute capability: 6.0\n"
     ]
    },
    {
     "name": "stdout",
     "output_type": "stream",
     "text": [
      "Found 27558 files belonging to 2 classes.\n",
      "Using 5511 files for validation.\n"
     ]
    }
   ],
   "source": [
    "train = tf.keras.preprocessing.image_dataset_from_directory(cell_images,\n",
    "                                                            validation_split=0.2,\n",
    "                                                            seed=123,\n",
    "                                                            subset=\"training\",\n",
    "                                                            image_size=(155,155),\n",
    "                                                            batch_size=32)\n",
    "test = tf.keras.preprocessing.image_dataset_from_directory(cell_images,\n",
    "                                                           validation_split=0.2,\n",
    "                                                           seed=123,\n",
    "                                                           subset=\"validation\",\n",
    "                                                           image_size=(155,155),\n",
    "                                                           batch_size=32)\n",
    "\n"
   ]
  },
  {
   "cell_type": "code",
   "execution_count": 6,
   "id": "dc190cc3",
   "metadata": {
    "execution": {
     "iopub.execute_input": "2021-10-17T02:49:41.726279Z",
     "iopub.status.busy": "2021-10-17T02:49:41.725363Z",
     "iopub.status.idle": "2021-10-17T02:49:41.842149Z",
     "shell.execute_reply": "2021-10-17T02:49:41.841642Z",
     "shell.execute_reply.started": "2021-10-17T02:46:32.115695Z"
    },
    "papermill": {
     "duration": 0.135728,
     "end_time": "2021-10-17T02:49:41.842300",
     "exception": false,
     "start_time": "2021-10-17T02:49:41.706572",
     "status": "completed"
    },
    "tags": []
   },
   "outputs": [],
   "source": [
    "model = Sequential()\n",
    "\n",
    "INPUT_SHAPE = (155,155,3)\n",
    "\n",
    "model.add(Conv2D(32,(3,3),input_shape=INPUT_SHAPE,activation='relu',padding=\"same\"))\n",
    "model.add(MaxPooling2D(pool_size=(2,2),strides=2))\n",
    "model.add(Conv2D(64,(3,3),input_shape=INPUT_SHAPE,activation='relu',padding=\"same\"))\n",
    "model.add(MaxPooling2D(pool_size=(2,2),strides=2))\n",
    "model.add(Conv2D(128,(3,3),input_shape=INPUT_SHAPE,activation='relu',padding=\"same\"))\n",
    "model.add(MaxPooling2D(pool_size=(2,2),strides=2))\n",
    "model.add(Conv2D(256,(3,3),input_shape=INPUT_SHAPE,activation='relu',padding=\"same\"))\n",
    "model.add(MaxPooling2D(pool_size=(2,2),strides=2))\n",
    "\n",
    "model.add(Flatten())\n",
    "\n",
    "model.add(Dense(128,activation='relu'))\n",
    "model.add(Dropout(0.5))\n",
    "model.add(Dense(50,activation='relu'))\n",
    "model.add(Dropout(0.5))\n",
    "model.add(Dense(1,activation='sigmoid'))\n",
    "\n",
    "model.compile(loss='binary_crossentropy',optimizer='adam' ,metrics=[\"accuracy\"])"
   ]
  },
  {
   "cell_type": "code",
   "execution_count": 7,
   "id": "4cba510b",
   "metadata": {
    "execution": {
     "iopub.execute_input": "2021-10-17T02:49:41.865313Z",
     "iopub.status.busy": "2021-10-17T02:49:41.863412Z",
     "iopub.status.idle": "2021-10-17T02:49:41.874089Z",
     "shell.execute_reply": "2021-10-17T02:49:41.874763Z",
     "shell.execute_reply.started": "2021-10-17T02:46:34.047263Z"
    },
    "papermill": {
     "duration": 0.023573,
     "end_time": "2021-10-17T02:49:41.874928",
     "exception": false,
     "start_time": "2021-10-17T02:49:41.851355",
     "status": "completed"
    },
    "tags": []
   },
   "outputs": [
    {
     "name": "stdout",
     "output_type": "stream",
     "text": [
      "Model: \"sequential\"\n",
      "_________________________________________________________________\n",
      "Layer (type)                 Output Shape              Param #   \n",
      "=================================================================\n",
      "conv2d (Conv2D)              (None, 155, 155, 32)      896       \n",
      "_________________________________________________________________\n",
      "max_pooling2d (MaxPooling2D) (None, 77, 77, 32)        0         \n",
      "_________________________________________________________________\n",
      "conv2d_1 (Conv2D)            (None, 77, 77, 64)        18496     \n",
      "_________________________________________________________________\n",
      "max_pooling2d_1 (MaxPooling2 (None, 38, 38, 64)        0         \n",
      "_________________________________________________________________\n",
      "conv2d_2 (Conv2D)            (None, 38, 38, 128)       73856     \n",
      "_________________________________________________________________\n",
      "max_pooling2d_2 (MaxPooling2 (None, 19, 19, 128)       0         \n",
      "_________________________________________________________________\n",
      "conv2d_3 (Conv2D)            (None, 19, 19, 256)       295168    \n",
      "_________________________________________________________________\n",
      "max_pooling2d_3 (MaxPooling2 (None, 9, 9, 256)         0         \n",
      "_________________________________________________________________\n",
      "flatten (Flatten)            (None, 20736)             0         \n",
      "_________________________________________________________________\n",
      "dense (Dense)                (None, 128)               2654336   \n",
      "_________________________________________________________________\n",
      "dropout (Dropout)            (None, 128)               0         \n",
      "_________________________________________________________________\n",
      "dense_1 (Dense)              (None, 50)                6450      \n",
      "_________________________________________________________________\n",
      "dropout_1 (Dropout)          (None, 50)                0         \n",
      "_________________________________________________________________\n",
      "dense_2 (Dense)              (None, 1)                 51        \n",
      "=================================================================\n",
      "Total params: 3,049,253\n",
      "Trainable params: 3,049,253\n",
      "Non-trainable params: 0\n",
      "_________________________________________________________________\n"
     ]
    }
   ],
   "source": [
    "model.summary()"
   ]
  },
  {
   "cell_type": "code",
   "execution_count": 8,
   "id": "ba6f8dc3",
   "metadata": {
    "execution": {
     "iopub.execute_input": "2021-10-17T02:49:41.897303Z",
     "iopub.status.busy": "2021-10-17T02:49:41.895737Z",
     "iopub.status.idle": "2021-10-17T02:49:41.897946Z",
     "shell.execute_reply": "2021-10-17T02:49:41.898372Z",
     "shell.execute_reply.started": "2021-10-17T02:46:37.178361Z"
    },
    "papermill": {
     "duration": 0.014617,
     "end_time": "2021-10-17T02:49:41.898485",
     "exception": false,
     "start_time": "2021-10-17T02:49:41.883868",
     "status": "completed"
    },
    "tags": []
   },
   "outputs": [],
   "source": [
    "early_stopping = EarlyStopping(monitor=\"val_loss\",patience=3, verbose=True)"
   ]
  },
  {
   "cell_type": "code",
   "execution_count": 9,
   "id": "e981b42f",
   "metadata": {
    "execution": {
     "iopub.execute_input": "2021-10-17T02:49:41.919719Z",
     "iopub.status.busy": "2021-10-17T02:49:41.918947Z",
     "iopub.status.idle": "2021-10-17T02:56:00.294642Z",
     "shell.execute_reply": "2021-10-17T02:56:00.294121Z"
    },
    "papermill": {
     "duration": 378.387632,
     "end_time": "2021-10-17T02:56:00.294772",
     "exception": false,
     "start_time": "2021-10-17T02:49:41.907140",
     "status": "completed"
    },
    "tags": []
   },
   "outputs": [
    {
     "name": "stdout",
     "output_type": "stream",
     "text": [
      "Epoch 1/20\n"
     ]
    },
    {
     "name": "stderr",
     "output_type": "stream",
     "text": [
      "2021-10-17 02:49:42.559373: I tensorflow/compiler/mlir/mlir_graph_optimization_pass.cc:185] None of the MLIR Optimization Passes are enabled (registered 2)\n",
      "2021-10-17 02:49:44.155222: I tensorflow/stream_executor/cuda/cuda_dnn.cc:369] Loaded cuDNN version 8005\n"
     ]
    },
    {
     "name": "stdout",
     "output_type": "stream",
     "text": [
      "689/689 [==============================] - 97s 129ms/step - loss: 0.9682 - accuracy: 0.5579 - val_loss: 0.6616 - val_accuracy: 0.6258\n",
      "Epoch 2/20\n",
      "689/689 [==============================] - 31s 45ms/step - loss: 0.6794 - accuracy: 0.5975 - val_loss: 0.6593 - val_accuracy: 0.6130\n",
      "Epoch 3/20\n",
      "689/689 [==============================] - 32s 45ms/step - loss: 0.6529 - accuracy: 0.6258 - val_loss: 0.6355 - val_accuracy: 0.6492\n",
      "Epoch 4/20\n",
      "689/689 [==============================] - 32s 46ms/step - loss: 0.6397 - accuracy: 0.6401 - val_loss: 0.3947 - val_accuracy: 0.9131\n",
      "Epoch 5/20\n",
      "689/689 [==============================] - 32s 46ms/step - loss: 0.2135 - accuracy: 0.9388 - val_loss: 0.1531 - val_accuracy: 0.9501\n",
      "Epoch 6/20\n",
      "689/689 [==============================] - 32s 46ms/step - loss: 0.1673 - accuracy: 0.9495 - val_loss: 0.1319 - val_accuracy: 0.9555\n",
      "Epoch 7/20\n",
      "689/689 [==============================] - 32s 46ms/step - loss: 0.1513 - accuracy: 0.9549 - val_loss: 0.1334 - val_accuracy: 0.9572\n",
      "Epoch 8/20\n",
      "689/689 [==============================] - 32s 46ms/step - loss: 0.1397 - accuracy: 0.9568 - val_loss: 0.1432 - val_accuracy: 0.9555\n",
      "Epoch 9/20\n",
      "689/689 [==============================] - 32s 46ms/step - loss: 0.1356 - accuracy: 0.9575 - val_loss: 0.1478 - val_accuracy: 0.9552\n",
      "Epoch 00009: early stopping\n"
     ]
    }
   ],
   "source": [
    "history = model.fit(train,validation_data=test,epochs=20,callbacks=[early_stopping],verbose=True)"
   ]
  }
 ],
 "metadata": {
  "kernelspec": {
   "display_name": "Python 3",
   "language": "python",
   "name": "python3"
  },
  "language_info": {
   "codemirror_mode": {
    "name": "ipython",
    "version": 3
   },
   "file_extension": ".py",
   "mimetype": "text/x-python",
   "name": "python",
   "nbconvert_exporter": "python",
   "pygments_lexer": "ipython3",
   "version": "3.7.10"
  },
  "papermill": {
   "default_parameters": {},
   "duration": 416.341594,
   "end_time": "2021-10-17T02:56:03.975421",
   "environment_variables": {},
   "exception": null,
   "input_path": "__notebook__.ipynb",
   "output_path": "__notebook__.ipynb",
   "parameters": {},
   "start_time": "2021-10-17T02:49:07.633827",
   "version": "2.3.3"
  }
 },
 "nbformat": 4,
 "nbformat_minor": 5
}
